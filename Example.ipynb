
# Note
The use of '$' in the following inputs is to implicate command line inputs. It is not meant to be entered.<br><br>
i.e.
<br>
Input:

```
$ foo
```
<br>
would imply the user entering 'foo' on the command line
<br>

# Run make file
<br>
Input:

```
$ make
```
<br>
Output:

```
python3 -m venv venv
./venv/bin/pip install -r requirements.txt
Collecting cryptography
  Using cached cryptography-3.4.6-cp36-abi3-macosx_10_10_x86_64.whl (2.0 MB)
Collecting cffi>=1.12
  Using cached cffi-1.14.5-cp39-cp39-macosx_10_9_x86_64.whl (177 kB)
Collecting pycparser
  Using cached pycparser-2.20-py2.py3-none-any.whl (112 kB)
Installing collected packages: pycparser, cffi, cryptography
Successfully installed cffi-1.14.5 cryptography-3.4.6 pycparser-2.20
```

# Run test 
<br>
Input:

```
$ make run
```
<br>
Output:

```
./venv/bin/python3 unittesting.py
........
----------------------------------------------------------------------
Ran 8 tests in 0.514s

OK
./venv/bin/python3 registration_sim.py
This is a simulation of multiple users attempting to register and vote.
-------------------------------------------------------------------------------

Please comment out the Sim() function as designated in Main for actual use.
As the valid voters are randomized, entering the same ID more than once may
result in a user being "valid" one time and not another. Use in conjunction with
an actual verification system to avoid this issue.


Press Enter to continue...
```
[Press Enter]
<br><br>
Output:
```
Loading ⣻
```
When finished loading
<br>
Output:
```
Finished!

Press Enter to see results...
```
[Press Enter]
<br><br>
Output:
```
--------------------------------------------------------------
Attempt for ID: 18
--------------------------------------------------------------
Successfully registered!
Private Key Object (Usually only shown to voter): <cryptography.hazmat.backends.openssl.rsa._RSAPrivateKey object at 0x7ff578cbcc10>
Public Key Object: <cryptography.hazmat.backends.openssl.rsa._RSAPublicKey object at 0x7ff578cbcc70>
Signature: b'mqBbF5zOlNoo-QhVqk18KP8c-6QMbqFrNzy_dJ1VpwZXVcsVmL0mtuPykxIe6YzHp3Om2wR0UY7pXu7FJ-wP7HS61cnAx-fuRDsA-kyz7xJIuNrrVzTdLPiq5Kzs8Oh-8rfQEZ4xAi8Brmthw7b4lKDKZ0F16zg-meSPiaooYyLSE4qXXJkw4Mf-DXZwahA9gV_SUKii8IsWCqppX4Y2vzTUrby6Oi3IAy4aKQa58PSh8F5-c-DqrH73jYv_CdC1lbcz_0fFNfPKtXcpBTauM_b3PE87EEOX2qQoaJNksnvLnVOo6t4G3gyo0yw1NJ0TCphzc03Sr01KA6IpFJkbZQ=='
Signature is correct: True
Attempting to vote for recipient 2
Sender: <cryptography.hazmat.backends.openssl.rsa._RSAPublicKey object at 0x7ff578cbcc70>
Recipient: recipient 2
Signature in transaction: b'mqBbF5zOlNoo-QhVqk18KP8c-6QMbqFrNzy_dJ1VpwZXVcsVmL0mtuPykxIe6YzHp3Om2wR0UY7pXu7FJ-wP7HS61cnAx-fuRDsA-kyz7xJIuNrrVzTdLPiq5Kzs8Oh-8rfQEZ4xAi8Brmthw7b4lKDKZ0F16zg-meSPiaooYyLSE4qXXJkw4Mf-DXZwahA9gV_SUKii8IsWCqppX4Y2vzTUrby6Oi3IAy4aKQa58PSh8F5-c-DqrH73jYv_CdC1lbcz_0fFNfPKtXcpBTauM_b3PE87EEOX2qQoaJNksnvLnVOo6t4G3gyo0yw1NJ0TCphzc03Sr01KA6IpFJkbZQ=='
Pending transactions: [<transaction.Transaction object at 0x7ff578cbc640>]
mining
Pending transactions: []

--------------------------------------------------------------
Attempt for ID: 4
--------------------------------------------------------------
Successfully registered!
Private Key Object (Usually only shown to voter): <cryptography.hazmat.backends.openssl.rsa._RSAPrivateKey object at 0x7ff578cbc460>
Public Key Object: <cryptography.hazmat.backends.openssl.rsa._RSAPublicKey object at 0x7ff578c41af0>
Signature: b'eypuv3Lip6AOA-AkulIPddi_SUtF6KHUE1IENB-_OKH8BNgWhW6aMs9WFJ7xY-J_Zdp2FH0oM5TK3l4imzzz3FMNaX-_oE1P_3ZlulCcvbGa2eBO1yU6eZqqvKXb0iyCGAj7TPhyTg7D25xTJsUXi5U9gTjDr-pxh1dFHHpr7cAfIRf8JAv-viRUCyrY-eCP3ad8fOkvx46vR7yP2kSxgDV1AYYh-KNHzDWjWJ_9apMeVmGA3AGINiKbPjB3alO-qyXxQFAQqnDk-rNSKjDoYWSOQ3BU8mcBxYNWmJBIEO93_mH5AVOZg2u0dZo8wmqWvdps1o1O3ftLE1tcCgrKrw=='
Signature is correct: True
Attempting to vote for recipient 5
Invalid candidate (only candidates 1 - 3 are registered), vote failed
Pending transactions: []
mining
Pending transactions: []

--------------------------------------------------------------
Attempt for ID: 19
--------------------------------------------------------------
Successfully registered!
Private Key Object (Usually only shown to voter): <cryptography.hazmat.backends.openssl.rsa._RSAPrivateKey object at 0x7ff578c41b80>
Public Key Object: <cryptography.hazmat.backends.openssl.rsa._RSAPublicKey object at 0x7ff578c41c10>
Signature: b'1-7mduevyNA2avQ8e0Lc3QfLh9uqC-5E8hNpoXgdQ5ndhjXHnZqOym2Hn9_mlCEPo7vNg4Jy8_m11d0FslAlVqXbiA5uXh7_JY_QcUutprjpPB9t4XQVEXbLYxUzHxPeVo30kyPqsHTPWdbevTFR5VvK7PPbEhyHHveTrwXKic0jE7V71RlF6Gf5KZOzJgSBSkstczIaJSY_ay7qioq6A7Vsvq-tyKXzjmSO32Nl7hdaui7WsV0gmcfhKEKJH_YqAlwSdCZ7Djmb3PQb1wlpfHZWXhg-Ybn-jDnac6duJX4JIKKcehVUT8or6ucAhG01nIAgDwWH4-TsZctAmU8mnQ=='
Signature is correct: True
Attempting to vote for recipient 2
Sender: <cryptography.hazmat.backends.openssl.rsa._RSAPublicKey object at 0x7ff578c41c10>
Recipient: recipient 2
Signature in transaction: b'1-7mduevyNA2avQ8e0Lc3QfLh9uqC-5E8hNpoXgdQ5ndhjXHnZqOym2Hn9_mlCEPo7vNg4Jy8_m11d0FslAlVqXbiA5uXh7_JY_QcUutprjpPB9t4XQVEXbLYxUzHxPeVo30kyPqsHTPWdbevTFR5VvK7PPbEhyHHveTrwXKic0jE7V71RlF6Gf5KZOzJgSBSkstczIaJSY_ay7qioq6A7Vsvq-tyKXzjmSO32Nl7hdaui7WsV0gmcfhKEKJH_YqAlwSdCZ7Djmb3PQb1wlpfHZWXhg-Ybn-jDnac6duJX4JIKKcehVUT8or6ucAhG01nIAgDwWH4-TsZctAmU8mnQ=='
Pending transactions: [<transaction.Transaction object at 0x7ff578ca93a0>]
mining
Pending transactions: []

--------------------------------------------------------------
Attempt for ID: 18
--------------------------------------------------------------
Voter ID already registered.
Private Key Object (Usually only shown to voter): 0
Public Key Object: 0
Don't Vote

--------------------------------------------------------------
Attempt for ID: 12
--------------------------------------------------------------
Successfully registered!
Private Key Object (Usually only shown to voter): <cryptography.hazmat.backends.openssl.rsa._RSAPrivateKey object at 0x7ff578c41b80>
Public Key Object: <cryptography.hazmat.backends.openssl.rsa._RSAPublicKey object at 0x7ff578c41ca0>
Signature: b'XX_ufh_GAzakfeB0b8ZLK6w8M5AlJwvZaVt-IpFJOV5ZRRnQ-CDho4-2LCudXupabeqMtWLtRkcqMzZ9cmZOMKdKLxvC7HzBzlesrnSV52l97qmCtWQdBjUsg2ZjzfyoSPMQZRqOqBJmLVup25W_bGglT2sRtzApgs0UkUNtkMlKt4cAVZmN4hihR-W2PV0azdccxkgidoaw6PqDQzas1JvXjxCEgh7FdAV6KHsJUo8GJbVu7WyVtZ206Z4hoaAZs0QwhV22FIw51wk4D6sadcM5qGeKeF33JB5-M87h8ggxzeNDQnGmiZbNKbOkON6QA4rwD4r2SOR2aZ55OztIDg=='
Signature is correct: True
Attempting to vote for recipient 3
Sender: <cryptography.hazmat.backends.openssl.rsa._RSAPublicKey object at 0x7ff578c41ca0>
Recipient: recipient 3
Signature in transaction: b'XX_ufh_GAzakfeB0b8ZLK6w8M5AlJwvZaVt-IpFJOV5ZRRnQ-CDho4-2LCudXupabeqMtWLtRkcqMzZ9cmZOMKdKLxvC7HzBzlesrnSV52l97qmCtWQdBjUsg2ZjzfyoSPMQZRqOqBJmLVup25W_bGglT2sRtzApgs0UkUNtkMlKt4cAVZmN4hihR-W2PV0azdccxkgidoaw6PqDQzas1JvXjxCEgh7FdAV6KHsJUo8GJbVu7WyVtZ206Z4hoaAZs0QwhV22FIw51wk4D6sadcM5qGeKeF33JB5-M87h8ggxzeNDQnGmiZbNKbOkON6QA4rwD4r2SOR2aZ55OztIDg=='
Pending transactions: [<transaction.Transaction object at 0x7ff578c41d60>]
mining
Pending transactions: []

--------------------------------------------------------------
Attempt for ID: 16
--------------------------------------------------------------
Invalid voter ID.
Private Key Object (Usually only shown to voter): 0
Public Key Object: 0
Don't Vote

--------------------------------------------------------------
Attempt for ID: 14
--------------------------------------------------------------
Invalid voter ID.
Private Key Object (Usually only shown to voter): 0
Public Key Object: 0
Don't Vote

--------------------------------------------------------------
Attempt for ID: 19
--------------------------------------------------------------
Invalid voter ID.
Private Key Object (Usually only shown to voter): 0
Public Key Object: 0
Don't Vote

--------------------------------------------------------------
Attempt for ID: 1
--------------------------------------------------------------
Successfully registered!
Private Key Object (Usually only shown to voter): <cryptography.hazmat.backends.openssl.rsa._RSAPrivateKey object at 0x7ff578c41bb0>
Public Key Object: <cryptography.hazmat.backends.openssl.rsa._RSAPublicKey object at 0x7ff578c41d90>
Signature: b'y0u-8SNSwt0zIApsFezHrFE_kLYR0WGLQ2c7a_R6bifuTF79w5ZODItOwlFds2HP4ud6WBRl8gAz8FZF6BokcTPko3e9G3OYtrh4-XYK9nMFLVQTfRamvezCZE49vit5LUuIW7td3-ixsN0BVb2v--aRBgpDA8ry4yedakl-EPLu7mTbRFpZIBgr6KCZ10JH0RE5i3S7CtKxOpljVFM-CPZevVHF7rWuNZWsvhLpuzF2NqQc6Sd5XQIUws8gCEdW-4er7tv_-SJpue5ulSGmAJiXwIyrf8N1i5jEfUyY6WpCFp5GLpC-95K24JrDob6_FA4jhaCmWVX8vo5cntfd6A=='
Signature is correct: True
Attempting to vote for recipient 5
Invalid candidate (only candidates 1 - 3 are registered), vote failed
Pending transactions: []
mining
Pending transactions: []

--------------------------------------------------------------
Attempt for ID: 13
--------------------------------------------------------------
Successfully registered!
Private Key Object (Usually only shown to voter): <cryptography.hazmat.backends.openssl.rsa._RSAPrivateKey object at 0x7ff578c41f10>
Public Key Object: <cryptography.hazmat.backends.openssl.rsa._RSAPublicKey object at 0x7ff578c41fa0>
Signature: b'QYoox9IDLXlVc9nguq9TO5aQ-oVXb3GfyZ-IKk93uHnUesH9EHSHS_PAyRvd4cfK3csYfTJeJRZCqgBi4WdplPJHzNz7kxbSkrFHYgPuP15VCIs8BUdDYU21jBHt04QyhEox1ZBJP0U-eAqSWqTviV-PsM9InXuQLPnP9ELv4quGVGn8ppn0D5_Asuy7eKF3fEXkghI87O5EvK7xIP4bt9KtSfCymKMt0imkLoQa1-VngVodpz7kHuGMEjvT1aynUOwwDgW1zqi1FA7goR1r81UUObjuaGWwGqNv1NaUSbqqLLPSkmtjr-Itb59RSPE_hAQdsaGcJboe-NCYcv1_GQ=='
Signature is correct: True
Attempting to vote for recipient 2
Sender: <cryptography.hazmat.backends.openssl.rsa._RSAPublicKey object at 0x7ff578c41fa0>
Recipient: recipient 2
Signature in transaction: b'QYoox9IDLXlVc9nguq9TO5aQ-oVXb3GfyZ-IKk93uHnUesH9EHSHS_PAyRvd4cfK3csYfTJeJRZCqgBi4WdplPJHzNz7kxbSkrFHYgPuP15VCIs8BUdDYU21jBHt04QyhEox1ZBJP0U-eAqSWqTviV-PsM9InXuQLPnP9ELv4quGVGn8ppn0D5_Asuy7eKF3fEXkghI87O5EvK7xIP4bt9KtSfCymKMt0imkLoQa1-VngVodpz7kHuGMEjvT1aynUOwwDgW1zqi1FA7goR1r81UUObjuaGWwGqNv1NaUSbqqLLPSkmtjr-Itb59RSPE_hAQdsaGcJboe-NCYcv1_GQ=='
Pending transactions: [<transaction.Transaction object at 0x7ff578c41bb0>]
mining
Pending transactions: []

--------------------------------------------------------------
Attempt for ID: 14
--------------------------------------------------------------
Invalid voter ID.
Private Key Object (Usually only shown to voter): 0
Public Key Object: 0
Don't Vote

--------------------------------------------------------------
Attempt for ID: 11
--------------------------------------------------------------
Successfully registered!
Private Key Object (Usually only shown to voter): <cryptography.hazmat.backends.openssl.rsa._RSAPrivateKey object at 0x7ff578c41e20>
Public Key Object: <cryptography.hazmat.backends.openssl.rsa._RSAPublicKey object at 0x7ff578c44040>
Signature: b'Im-0uNugCZgiFCyKuL4mQxAbzMzdS94wdheNcstQz7Uv0aw0prs2bBGkqUMmOb2BFRE3uITOozT8UOvt3PvRz9-aeaW9xYHxjrFOOqMEzHfsuiEd9-WOqGMq4huHpJibr1nV2YLPia6JWOwL0a3g-WHBbn52uhuPsbVHxbZZywUFnhsFJXxyJSp7u2hHoRWgoVAE9oTZY2h39UiF-C5fSfR4UDRYIarKJIkAkjBukTLyYH2lL9YhufHZrfQ3bYRiCnWxm6ilXqOTAWztdNN9vAxpcv_TdrjmhxJ_CPVtrxksLThDb7vhLn6zsAy-dZ68-FxpovNvjnOz9X2ijpcfZA=='
Signature is correct: True
Attempting to vote for recipient 5
Invalid candidate (only candidates 1 - 3 are registered), vote failed
Pending transactions: []
mining
Pending transactions: []

--------------------------------------------------------------
Attempt for ID: 5
--------------------------------------------------------------
Successfully registered!
Private Key Object (Usually only shown to voter): <cryptography.hazmat.backends.openssl.rsa._RSAPrivateKey object at 0x7ff578c44190>
Public Key Object: <cryptography.hazmat.backends.openssl.rsa._RSAPublicKey object at 0x7ff578c44220>
Signature: b'UGVOto7pIPL5xo76oWNq4MlxXrQfhXdBIbrZ2m4XHCwwE03_x2DdFaW2fTf3ZsgEU74L33s23DZhue0dJh5ueI0SHSAAbc_wgkH0XG4zy0hsS0JsHz_DjLlu3PViVrDssL62_6lPjzKlAJKacFzRhhFmLrlYSnXZVfMz7Wj8kk7ukvYLe9fAvupWuaZAbg8xUo3Wqmlu6ioC5qfF7n-ChNUFmqshORWXtj-7NA49jlyepZBbTVP6wujlVWKN_6SBpPonnHOZpWbFhrjKqq5d_vPUDdYllnAdSzCs3daX-JfdwYEoXkEc361AIeW3Pxb-eUkt1SSVswTLSKBwrrgUDA=='
Signature is correct: True
Attempting to vote for recipient 3
Sender: <cryptography.hazmat.backends.openssl.rsa._RSAPublicKey object at 0x7ff578c44220>
Recipient: recipient 3
Signature in transaction: b'UGVOto7pIPL5xo76oWNq4MlxXrQfhXdBIbrZ2m4XHCwwE03_x2DdFaW2fTf3ZsgEU74L33s23DZhue0dJh5ueI0SHSAAbc_wgkH0XG4zy0hsS0JsHz_DjLlu3PViVrDssL62_6lPjzKlAJKacFzRhhFmLrlYSnXZVfMz7Wj8kk7ukvYLe9fAvupWuaZAbg8xUo3Wqmlu6ioC5qfF7n-ChNUFmqshORWXtj-7NA49jlyepZBbTVP6wujlVWKN_6SBpPonnHOZpWbFhrjKqq5d_vPUDdYllnAdSzCs3daX-JfdwYEoXkEc361AIeW3Pxb-eUkt1SSVswTLSKBwrrgUDA=='
Pending transactions: [<transaction.Transaction object at 0x7ff578cbcb20>]
mining
Pending transactions: []

--------------------------------------------------------------
Attempt for ID: 6
--------------------------------------------------------------
Invalid voter ID.
Private Key Object (Usually only shown to voter): 0
Public Key Object: 0
Don't Vote

--------------------------------------------------------------
Attempt for ID: 1
--------------------------------------------------------------
Invalid voter ID.
Private Key Object (Usually only shown to voter): 0
Public Key Object: 0
Don't Vote

--------------------------------------------------------------
Attempt for ID: 9
--------------------------------------------------------------
Invalid voter ID.
Private Key Object (Usually only shown to voter): 0
Public Key Object: 0
Don't Vote

--------------------------------------------------------------
Attempt for ID: 19
--------------------------------------------------------------
Voter ID already registered.
Private Key Object (Usually only shown to voter): 0
Public Key Object: 0
Don't Vote

--------------------------------------------------------------
Attempt for ID: 17
--------------------------------------------------------------
Invalid voter ID.
Private Key Object (Usually only shown to voter): 0
Public Key Object: 0
Don't Vote

--------------------------------------------------------------
Attempt for ID: 19
--------------------------------------------------------------
Voter ID already registered.
Private Key Object (Usually only shown to voter): 0
Public Key Object: 0
Don't Vote

--------------------------------------------------------------
Attempt for ID: 2
--------------------------------------------------------------
Successfully registered!
Private Key Object (Usually only shown to voter): <cryptography.hazmat.backends.openssl.rsa._RSAPrivateKey object at 0x7ff578c440d0>
Public Key Object: <cryptography.hazmat.backends.openssl.rsa._RSAPublicKey object at 0x7ff578c442b0>
Signature: b'FO09FFzhVIPl6HUFYmm0sKJKm0HYLH2gmEvFuMoOx9KZJgpgxzEjF_OGkHMF9tBQYyX3h1dwGQiDQXMfUFe_ZhWDahhhxMMTHbRntoZUPzuCDNECRGlRZIuVDMxJAQLFzQg7NPNSbw3uQR5At3c_lUVWauria4BuT5QE75jBjc4GibQrGr979YO9JSebUZHrHLZ0aBQ7qQUeysVe9WWe95MxQMUKatRRZuwM11xt1I9i3YgB6mfWTr2SUTTsJyuA8yrnXpJgcRkWVwDO3Jm4MGojjD4HHIFWxNWPjdsyQYqbFF6mcDkr_Ify-fYCc-_lKa3PnFeTECePIXZH1-lqEQ=='
Signature is correct: True
Attempting to vote for recipient 5
Invalid candidate (only candidates 1 - 3 are registered), vote failed
Pending transactions: []
mining
Pending transactions: []

--------------------------------------------------------------
Attempt for ID: 4
--------------------------------------------------------------
Invalid voter ID.
Private Key Object (Usually only shown to voter): 0
Public Key Object: 0
Don't Vote

--------------------------------------------------------------
Attempt for ID: 7
--------------------------------------------------------------
Successfully registered!
Private Key Object (Usually only shown to voter): <cryptography.hazmat.backends.openssl.rsa._RSAPrivateKey object at 0x7ff578c44190>
Public Key Object: <cryptography.hazmat.backends.openssl.rsa._RSAPublicKey object at 0x7ff578c443a0>
Signature: b'3skREei3TJ_l1zzFyNRHXC71rn3-BPGPhKOpqJDuzYPLykYjhQzXQowM-ff57Q4MMUCFQINPvU1eVDntNFRL6f8J0rAAWiy8e3OPMiKhgTHvtsFubERBhUALTX_gi_Z5kutg3Hj5qX0EtfWYD9ir2BQ4IkJrbCA64gcl9CHQeay4Lb_fFRVGfSg6LWduPW4_cyNSbl5wtBhClgjKombT3y4ACiGswquxRXia0PRneNWhmAk5Xtfexz9RxSxaxS4xqH7m-QuE567WXDqHoLAecQAbA8A30M0JUOWwzo2z1_i1ZETNyOYtUxL6EW60DU0PQIcn0uBi94ThOc6faIiGyQ=='
Signature is correct: True
Attempting to vote for recipient 1
Sender: <cryptography.hazmat.backends.openssl.rsa._RSAPublicKey object at 0x7ff578c443a0>
Recipient: recipient 1
Signature in transaction: b'3skREei3TJ_l1zzFyNRHXC71rn3-BPGPhKOpqJDuzYPLykYjhQzXQowM-ff57Q4MMUCFQINPvU1eVDntNFRL6f8J0rAAWiy8e3OPMiKhgTHvtsFubERBhUALTX_gi_Z5kutg3Hj5qX0EtfWYD9ir2BQ4IkJrbCA64gcl9CHQeay4Lb_fFRVGfSg6LWduPW4_cyNSbl5wtBhClgjKombT3y4ACiGswquxRXia0PRneNWhmAk5Xtfexz9RxSxaxS4xqH7m-QuE567WXDqHoLAecQAbA8A30M0JUOWwzo2z1_i1ZETNyOYtUxL6EW60DU0PQIcn0uBi94ThOc6faIiGyQ=='
Pending transactions: [<transaction.Transaction object at 0x7ff578c44490>]
mining
Pending transactions: []

--------------------------------------------------------------
Attempt for ID: 16
--------------------------------------------------------------
Invalid voter ID.
Private Key Object (Usually only shown to voter): 0
Public Key Object: 0
Don't Vote

--------------------------------------------------------------
Attempt for ID: 8
--------------------------------------------------------------
Successfully registered!
Private Key Object (Usually only shown to voter): <cryptography.hazmat.backends.openssl.rsa._RSAPrivateKey object at 0x7ff578c440d0>
Public Key Object: <cryptography.hazmat.backends.openssl.rsa._RSAPublicKey object at 0x7ff578c444c0>
Signature: b'cUsJiJxBxDKARD7iuwQRKJwRl2fZpzXkrf88jP0VY3dZiKUYz7Lgf5IEfTU_DJyjdCGk4JvxlW6Par1HvCJPs9oDMmxPOOyYjcvkcbZ04OvtObKOeUIJxiyp4JwQ7xYwGC2zP3bttEsvW-2RpdQbVebj-xPJ_HPLM-x8CZPi5q9q_tat0dip8ofkD-Vife1ZM_lvxRwuLlxuxW36xQR_Gkg0gKzgFLfqhiX8NpNNuAsZV7AbMlkRitOTWQyUNqr33sZR2hcApu90zJY3uBxj24JEXQRMrBJppNm1d0FEsrXizJx5UXM9mua51TBI6X86KEjSuUFoJnQhuVE1atwbdQ=='
Signature is correct: True
Attempting to vote for recipient 3
Sender: <cryptography.hazmat.backends.openssl.rsa._RSAPublicKey object at 0x7ff578c444c0>
Recipient: recipient 3
Signature in transaction: b'cUsJiJxBxDKARD7iuwQRKJwRl2fZpzXkrf88jP0VY3dZiKUYz7Lgf5IEfTU_DJyjdCGk4JvxlW6Par1HvCJPs9oDMmxPOOyYjcvkcbZ04OvtObKOeUIJxiyp4JwQ7xYwGC2zP3bttEsvW-2RpdQbVebj-xPJ_HPLM-x8CZPi5q9q_tat0dip8ofkD-Vife1ZM_lvxRwuLlxuxW36xQR_Gkg0gKzgFLfqhiX8NpNNuAsZV7AbMlkRitOTWQyUNqr33sZR2hcApu90zJY3uBxj24JEXQRMrBJppNm1d0FEsrXizJx5UXM9mua51TBI6X86KEjSuUFoJnQhuVE1atwbdQ=='
Pending transactions: [<transaction.Transaction object at 0x7ff578c445b0>]
mining
Pending transactions: []

--------------------------------------------------------------
Attempt for ID: 19
--------------------------------------------------------------
Invalid voter ID.
Private Key Object (Usually only shown to voter): 0
Public Key Object: 0
Don't Vote

--------------------------------------------------------------
Attempt for ID: 2
--------------------------------------------------------------
Invalid voter ID.
Private Key Object (Usually only shown to voter): 0
Public Key Object: 0
Don't Vote

--------------------------------------------------------------
Attempt for ID: 16
--------------------------------------------------------------
Invalid voter ID.
Private Key Object (Usually only shown to voter): 0
Public Key Object: 0
Don't Vote

--------------------------------------------------------------
Attempt for ID: 13
--------------------------------------------------------------
Voter ID already registered.
Private Key Object (Usually only shown to voter): 0
Public Key Object: 0
Don't Vote

--------------------------------------------------------------
Attempt for ID: 9
--------------------------------------------------------------
Successfully registered!
Private Key Object (Usually only shown to voter): <cryptography.hazmat.backends.openssl.rsa._RSAPrivateKey object at 0x7ff578c44190>
Public Key Object: <cryptography.hazmat.backends.openssl.rsa._RSAPublicKey object at 0x7ff578c445e0>
Signature: b'nftyS6T0QWsGbxhIZHbUL0PiKqEoskiJCVWRsYpeTjWMCIUg-0ETQHxLTerpp-pyy34drX_LFodq1O3M6EI7uRnpAUFEBYm7LCWsrsY6Tjth1dL8eD9BiPRfshFy59DEohhqd7xQKWjsk0ydIVenJYhLi-BRhhzugZCJIm4JYstNXY0mKgjibf7BKUf3sVXSZZG863rkmOo7GeQfQZfpaUXcbkDqeTkT6PPM5sTk9sesuUROh4SJcT-tXc9P122P05h-Hr8ylp_meftD84Zriul6R3ihQl1fWMnkFOp_OCFHaEcUwJQu7lBaXk1wnpqGUSUfapiIygQ0AwhVA5uTVA=='
Signature is correct: True
Attempting to vote for recipient 2
Sender: <cryptography.hazmat.backends.openssl.rsa._RSAPublicKey object at 0x7ff578c445e0>
Recipient: recipient 2
Signature in transaction: b'nftyS6T0QWsGbxhIZHbUL0PiKqEoskiJCVWRsYpeTjWMCIUg-0ETQHxLTerpp-pyy34drX_LFodq1O3M6EI7uRnpAUFEBYm7LCWsrsY6Tjth1dL8eD9BiPRfshFy59DEohhqd7xQKWjsk0ydIVenJYhLi-BRhhzugZCJIm4JYstNXY0mKgjibf7BKUf3sVXSZZG863rkmOo7GeQfQZfpaUXcbkDqeTkT6PPM5sTk9sesuUROh4SJcT-tXc9P122P05h-Hr8ylp_meftD84Zriul6R3ihQl1fWMnkFOp_OCFHaEcUwJQu7lBaXk1wnpqGUSUfapiIygQ0AwhVA5uTVA=='
Pending transactions: [<transaction.Transaction object at 0x7ff578c446d0>]
mining
Pending transactions: []

--------------------------------------------------------------
Attempt for ID: 14
--------------------------------------------------------------
Invalid voter ID.
Private Key Object (Usually only shown to voter): 0
Public Key Object: 0
Don't Vote

--------------------------------------------------------------
Attempt for ID: 11
--------------------------------------------------------------
Voter ID already registered.
Private Key Object (Usually only shown to voter): 0
Public Key Object: 0
Don't Vote

--------------------------------------------------------------
Attempt for ID: 7
--------------------------------------------------------------
Invalid voter ID.
Private Key Object (Usually only shown to voter): 0
Public Key Object: 0
Don't Vote

--------------------------------------------------------------
Attempt for ID: 13
--------------------------------------------------------------
Invalid voter ID.
Private Key Object (Usually only shown to voter): 0
Public Key Object: 0
Don't Vote

--------------------------------------------------------------
Attempt for ID: 15
--------------------------------------------------------------
Invalid voter ID.
Private Key Object (Usually only shown to voter): 0
Public Key Object: 0
Don't Vote

--------------------------------------------------------------
Attempt for ID: 19
--------------------------------------------------------------
Invalid voter ID.
Private Key Object (Usually only shown to voter): 0
Public Key Object: 0
Don't Vote

--------------------------------------------------------------
Attempt for ID: 7
--------------------------------------------------------------
Invalid voter ID.
Private Key Object (Usually only shown to voter): 0
Public Key Object: 0
Don't Vote

--------------------------------------------------------------
Attempt for ID: 4
--------------------------------------------------------------
Voter ID already registered.
Private Key Object (Usually only shown to voter): 0
Public Key Object: 0
Don't Vote

--------------------------------------------------------------
Attempt for ID: 14
--------------------------------------------------------------
Successfully registered!
Private Key Object (Usually only shown to voter): <cryptography.hazmat.backends.openssl.rsa._RSAPrivateKey object at 0x7ff578c440d0>
Public Key Object: <cryptography.hazmat.backends.openssl.rsa._RSAPublicKey object at 0x7ff578c44700>
Signature: b'NtrsKWmgE3wV6dfmKysJ2mrCcwmSj0k_bOXvdXxO20wGrBY2F2sXn0imQ6C_gNK0nANRr9z-rRqK1hq4mxmkeeLRASplCDDsXYI0nOpC2YwWJrteN1xj5E19_oL29RqIPLpypfWRmJZcjHZxeowOsKLeIRfjKrYvYecf6vGhb-6TIEUcKWhtiOo9Z5mOVge6rJP6Ea8kiklWQ_cDwtyltZWEEItP-x9EQB9HHxEcJGWh1sO9fRH7-xe3VYbuAz6xd5Mbu4F13f1kmoNbm0m7rVNzqQW7_h-AbBqNWaRW4JrHvQZ0pHAcyFKI4BNV5jHFvzMRlViDJaFVVbKqIy7JGA=='
Signature is correct: True
Attempting to vote for recipient 5
Invalid candidate (only candidates 1 - 3 are registered), vote failed
Pending transactions: []
mining
Pending transactions: []

--------------------------------------------------------------
Attempt for ID: 5
--------------------------------------------------------------
Voter ID already registered.
Private Key Object (Usually only shown to voter): 0
Public Key Object: 0
Don't Vote

--------------------------------------------------------------
Attempt for ID: 4
--------------------------------------------------------------
Voter ID already registered.
Private Key Object (Usually only shown to voter): 0
Public Key Object: 0
Don't Vote
```
# Clean Up
Removes installed dependencies
<br><br>
Input:

```
$ make clean
```
<br>
Output:

```
rm -rf venv
find . -type f -name '*.pyc' -delete
```



